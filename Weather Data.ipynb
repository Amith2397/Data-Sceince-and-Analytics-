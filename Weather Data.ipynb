{
 "cells": [
  {
   "cell_type": "code",
   "execution_count": 10,
   "metadata": {},
   "outputs": [],
   "source": [
    "\n",
    "#*********************************************\n",
    "# Author: Amith Kashyap\n",
    "# Company: Lauritzen.Inc\n",
    "# Written: Python, Jupyter Notebook.\n",
    "# ********************************************\n",
    "\n",
    "#----------------------------------------------\n",
    "\n",
    "# API USED:\n",
    "#The Synoptic Mesonet API gives access to real-time and historical surface-based weather\n",
    "#and environmental observations for thousands of stations. \n",
    "#Synoptic is free up to 5,000 API requests and 3 million service units each month. \n",
    "\n",
    "#----------------------------------------------\n",
    "\n",
    "\n",
    "\n",
    "#-----------------------------------------------\n",
    "\n",
    "# REGISTRATION:\n",
    "# Register for free account at Synoptic API Webpage\n",
    "# https://developers.synopticdata.com \n",
    "# You will need to obtain an API token before using this python package.\n",
    "\n",
    "# INSTALLATION:\n",
    "# pip install SynopticPy\n",
    "# Make sure you already have pandas,numpy and request libraries installed.\n",
    "\n",
    "#-------------------------------------------------\n",
    "\n",
    "\n",
    "#-------------------------------------------------\n",
    "\n",
    "# Jupyter Notebook:\n",
    "# command: get_token.py\n",
    "# This function performs a test on the token in the config.cfg file. \n",
    "# If the token is valid, you are good to go. \n",
    "# If not, then you will be prompted to edit the config.cfg file when you import any function from synoptic.services.\n",
    "# Additionally, if you run the Synoptic using other method/query, \n",
    "# a input box will be appear where you can input your API token.\n",
    "\n",
    "#---------------------------------------------------\n",
    "\n",
    "# the program can be further modified according to the needs of user and graphical represenation of data can obtained, \n",
    "# using pandas, matplotlib, numpy."
   ]
  },
  {
   "cell_type": "code",
   "execution_count": 11,
   "metadata": {},
   "outputs": [],
   "source": [
    "\n",
    "\n",
    "# Display the date.\n",
    "from datetime import datetime"
   ]
  },
  {
   "cell_type": "code",
   "execution_count": 12,
   "metadata": {},
   "outputs": [],
   "source": [
    "# station timeseries function offered by synoptic services.\n",
    "from synoptic.services import stations_timeseries"
   ]
  },
  {
   "cell_type": "code",
   "execution_count": 13,
   "metadata": {},
   "outputs": [
    {
     "name": "stdout",
     "output_type": "stream",
     "text": [
      "\n",
      " 🚚💨 Speedy Delivery from Synoptic API [timeseries]: https://api.synopticdata.com/v2/stations/timeseries?stid=KLEB&vars=air_temp,wind_speed,cloud_layer_1,cloud_layer_2,cloud_layer_3&start=202101010000&end=202101020000&token=🙈HIDDEN\n",
      "\n",
      "                           air_temp  \\\n",
      "date_time                             \n",
      "2021-01-01 00:00:00+00:00       1.0   \n",
      "2021-01-01 00:05:00+00:00       1.0   \n",
      "2021-01-01 00:15:00+00:00       0.0   \n",
      "2021-01-01 00:20:00+00:00       1.0   \n",
      "2021-01-01 00:30:00+00:00       0.0   \n",
      "...                             ...   \n",
      "2021-01-01 23:45:00+00:00      -1.0   \n",
      "2021-01-01 23:50:00+00:00      -1.0   \n",
      "2021-01-01 23:53:00+00:00      -0.6   \n",
      "2021-01-01 23:55:00+00:00      -1.0   \n",
      "2021-01-02 00:00:00+00:00      -1.0   \n",
      "\n",
      "                                                            cloud_layer_1  \\\n",
      "date_time                                                                   \n",
      "2021-01-01 00:00:00+00:00  {'sky_condition': 'clear', 'height_agl': None}   \n",
      "2021-01-01 00:05:00+00:00  {'sky_condition': 'clear', 'height_agl': None}   \n",
      "2021-01-01 00:15:00+00:00  {'sky_condition': 'clear', 'height_agl': None}   \n",
      "2021-01-01 00:20:00+00:00  {'sky_condition': 'clear', 'height_agl': None}   \n",
      "2021-01-01 00:30:00+00:00  {'sky_condition': 'clear', 'height_agl': None}   \n",
      "...                                                                   ...   \n",
      "2021-01-01 23:45:00+00:00  {'sky_condition': 'clear', 'height_agl': None}   \n",
      "2021-01-01 23:50:00+00:00  {'sky_condition': 'clear', 'height_agl': None}   \n",
      "2021-01-01 23:53:00+00:00  {'sky_condition': 'clear', 'height_agl': None}   \n",
      "2021-01-01 23:55:00+00:00  {'sky_condition': 'clear', 'height_agl': None}   \n",
      "2021-01-02 00:00:00+00:00  {'sky_condition': 'clear', 'height_agl': None}   \n",
      "\n",
      "                           wind_speed  \n",
      "date_time                              \n",
      "2021-01-01 00:00:00+00:00       1.543  \n",
      "2021-01-01 00:05:00+00:00       1.543  \n",
      "2021-01-01 00:15:00+00:00       2.572  \n",
      "2021-01-01 00:20:00+00:00       2.058  \n",
      "2021-01-01 00:30:00+00:00       0.000  \n",
      "...                               ...  \n",
      "2021-01-01 23:45:00+00:00       0.000  \n",
      "2021-01-01 23:50:00+00:00       0.000  \n",
      "2021-01-01 23:53:00+00:00       0.000  \n",
      "2021-01-01 23:55:00+00:00       0.000  \n",
      "2021-01-02 00:00:00+00:00       0.000  \n",
      "\n",
      "[272 rows x 3 columns]\n"
     ]
    }
   ],
   "source": [
    "#Function:\n",
    "x = dict(\n",
    "    stid= ['KLEB'], # Can add more stations.\n",
    "    vars=['air_temp', 'wind_speed','cloud_layer_1','cloud_layer_2','cloud_layer_3'], # variable/parameters\n",
    "    start=datetime(2021, 1, 1),  # start date of the timeframe\n",
    "    end=datetime(2021, 1, 2)     # end date of the timeframe.\n",
    ")\n",
    "\n",
    "a = stations_timeseries(verbose= 'HIDE', **x)  # data readable, made into list.\n",
    "\n",
    "print(a)"
   ]
  },
  {
   "cell_type": "code",
   "execution_count": 14,
   "metadata": {},
   "outputs": [],
   "source": [
    "a.to_csv('file.csv') # saving the data as a csv file. "
   ]
  }
 ],
 "metadata": {
  "kernelspec": {
   "display_name": "Python 3",
   "language": "python",
   "name": "python3"
  },
  "language_info": {
   "codemirror_mode": {
    "name": "ipython",
    "version": 3
   },
   "file_extension": ".py",
   "mimetype": "text/x-python",
   "name": "python",
   "nbconvert_exporter": "python",
   "pygments_lexer": "ipython3",
   "version": "3.8.1"
  }
 },
 "nbformat": 4,
 "nbformat_minor": 4
}
